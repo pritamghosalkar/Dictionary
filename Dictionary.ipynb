{
 "cells": [
  {
   "cell_type": "code",
   "execution_count": 26,
   "metadata": {},
   "outputs": [],
   "source": [
    "import json\n",
    "from difflib import get_close_matches\n",
    "data = json.load(open(\"data.json\"))"
   ]
  },
  {
   "cell_type": "code",
   "execution_count": 39,
   "metadata": {},
   "outputs": [],
   "source": [
    "def search(word):\n",
    "    word = word.lower()\n",
    "    if word in data:\n",
    "        return data[word]\n",
    "    elif word.title() in data:\n",
    "        return data[word.title()]\n",
    "    elif word.upper() in data:\n",
    "        return data[word.upper()]\n",
    "    elif len(get_close_matches(word,data.keys()))>0:\n",
    "        ans = input(\"Did you mean %s insted? Enter Y if Yes or N if No: \" %get_close_matches(word,data.keys())[0])\n",
    "        if ans == \"Y\":\n",
    "            return data[get_close_matches(word,data.keys())[0]]\n",
    "        elif ans ==\"N\":\n",
    "            return \"Word doesn't exist please check the word again.\"\n",
    "        else:\n",
    "            return \"We doesn't understand your entry.\"\n",
    "    else:\n",
    "        return \"Word doesn't exist please check the word again.\""
   ]
  },
  {
   "cell_type": "code",
   "execution_count": 40,
   "metadata": {},
   "outputs": [
    {
     "name": "stdout",
     "output_type": "stream",
     "text": [
      "Enter the word you want to search: USA\n",
      "A country and federal republic in North America located north of Mexico and south of Canada, including Alaska, Hawaii and overseas territories.\n"
     ]
    }
   ],
   "source": [
    "word = input(\"Enter the word you want to search: \")\n",
    "\n",
    "output = search(word)\n",
    "if type(output) == list:\n",
    "    for i in output:\n",
    "        print(i)\n",
    "else:\n",
    "    print(output)"
   ]
  }
 ],
 "metadata": {
  "kernelspec": {
   "display_name": "Python 3",
   "language": "python",
   "name": "python3"
  },
  "language_info": {
   "codemirror_mode": {
    "name": "ipython",
    "version": 3
   },
   "file_extension": ".py",
   "mimetype": "text/x-python",
   "name": "python",
   "nbconvert_exporter": "python",
   "pygments_lexer": "ipython3",
   "version": "3.7.3"
  }
 },
 "nbformat": 4,
 "nbformat_minor": 2
}
